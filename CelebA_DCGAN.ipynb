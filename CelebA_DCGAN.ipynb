{
  "cells": [
    {
      "cell_type": "markdown",
      "metadata": {
        "id": "view-in-github",
        "colab_type": "text"
      },
      "source": [
        "<a href=\"https://colab.research.google.com/github/kanru-wang/GAN_and_Diffusion_models/blob/main/CelebA_DCGAN.ipynb\" target=\"_parent\"><img src=\"https://colab.research.google.com/assets/colab-badge.svg\" alt=\"Open In Colab\"/></a>"
      ]
    },
    {
      "cell_type": "code",
      "execution_count": 1,
      "metadata": {
        "id": "zGcCsOilc8b1"
      },
      "outputs": [],
      "source": [
        "import tensorflow as tf\n",
        "import numpy as np\n",
        "import matplotlib.pyplot as plt\n",
        "from tensorflow.keras.models import Model\n",
        "from tensorflow.keras.layers import (\n",
        "    Layer, Reshape, LeakyReLU, Dropout, Conv2DTranspose, Add, Conv2D,\n",
        "    MaxPool2D, Dense, Flatten, InputLayer, BatchNormalization, Input\n",
        ")\n",
        "from tensorflow.keras.optimizers import Adam"
      ]
    },
    {
      "cell_type": "markdown",
      "metadata": {
        "id": "gPLHB2s5gBJu"
      },
      "source": [
        "# Data"
      ]
    },
    {
      "cell_type": "markdown",
      "metadata": {
        "id": "QhKsQaul6le_"
      },
      "source": [
        "## Download Data\n",
        "\n",
        "Before running the following cell, must first log into Kaggle, go to `Settings -> API -> Create New Token`.\n",
        "\n",
        "Download `kaggle.json` and upload it to the root folder of Colab. "
      ]
    },
    {
      "cell_type": "code",
      "execution_count": 2,
      "metadata": {
        "id": "DnE86Hpn6GGQ"
      },
      "outputs": [],
      "source": [
        "# suppress output\n",
        "%%capture\n",
        "! pip install -q kaggle\n",
        "! mkdir ~/.kaggle\n",
        "! cp kaggle.json ~/.kaggle/\n",
        "! chmod 600 /root/.kaggle/kaggle.json\n",
        "! kaggle datasets download -d jessicali9530/celeba-dataset\n",
        "! unzip \"/content/celeba-dataset.zip\" -d \"/content/dataset/\""
      ]
    },
    {
      "cell_type": "markdown",
      "metadata": {
        "id": "IV3KzHNq6w0g"
      },
      "source": [
        "## Prepare Data"
      ]
    },
    {
      "cell_type": "code",
      "execution_count": 3,
      "metadata": {
        "id": "pNiSHjva6GN5",
        "colab": {
          "base_uri": "https://localhost:8080/"
        },
        "outputId": "eac975ed-c02c-4ef2-c2c6-2c2dad51c2e8"
      },
      "outputs": [
        {
          "output_type": "stream",
          "name": "stdout",
          "text": [
            "Found 202599 files belonging to 1 classes.\n"
          ]
        },
        {
          "output_type": "execute_result",
          "data": {
            "text/plain": [
              "<_BatchDataset element_spec=TensorSpec(shape=(None, 64, 64, 3), dtype=tf.float32, name=None)>"
            ]
          },
          "metadata": {},
          "execution_count": 3
        }
      ],
      "source": [
        "BATCH_SIZE = 128\n",
        "IM_SHAPE = (64, 64, 3)\n",
        "LEARNING_RATE = 2e-4\n",
        "LATENT_DIM = 100\n",
        "EPOCHS = 50  # 1000\n",
        "\n",
        "def preprocess(image):\n",
        "    return tf.cast(image, tf.float32) / 127.5 - 1.0\n",
        "\n",
        "dataset = tf.keras.preprocessing.image_dataset_from_directory(\n",
        "    \"/content/dataset/img_align_celeba/img_align_celeba\",\n",
        "    label_mode=None,\n",
        "    image_size=(IM_SHAPE[0], IM_SHAPE[1]),\n",
        "    batch_size=BATCH_SIZE\n",
        ")\n",
        "\n",
        "dataset"
      ]
    },
    {
      "cell_type": "code",
      "execution_count": 4,
      "metadata": {
        "id": "MfOhaJz-6GSw",
        "colab": {
          "base_uri": "https://localhost:8080/"
        },
        "outputId": "75c12be1-2fcd-4487-ee46-245f82facbf5"
      },
      "outputs": [
        {
          "output_type": "stream",
          "name": "stdout",
          "text": [
            "(128, 64, 64, 3)\n"
          ]
        }
      ],
      "source": [
        "train_dataset = (\n",
        "    dataset\n",
        "    .map(preprocess)\n",
        "    .unbatch()\n",
        "    .shuffle(buffer_size=1024, reshuffle_each_iteration=True)\n",
        "    .batch(BATCH_SIZE, drop_remainder=True)\n",
        "    .prefetch(tf.data.AUTOTUNE)\n",
        ")\n",
        "\n",
        "for d in train_dataset.take(1):\n",
        "    print(d.shape)"
      ]
    },
    {
      "cell_type": "code",
      "execution_count": 5,
      "metadata": {
        "id": "RcTlClDN6Gaq",
        "colab": {
          "base_uri": "https://localhost:8080/",
          "height": 499
        },
        "outputId": "00c277d8-d3a1-48de-e7a5-8ec57417e413"
      },
      "outputs": [
        {
          "output_type": "display_data",
          "data": {
            "text/plain": [
              "<Figure size 600x600 with 4 Axes>"
            ],
            "image/png": "[encoded data removed]"
          },
          "metadata": {}
        }
      ],
      "source": [
        "plt.figure(figsize=(6, 6))\n",
        "k = 0\n",
        "n = 4\n",
        "for i in range(n):\n",
        "    ax = plt.subplot(2, 2, k+1)\n",
        "    plt.imshow((d[i] + 1) / 2)\n",
        "    plt.axis(\"off\")\n",
        "    k += 1"
      ]
    },
    {
      "cell_type": "markdown",
      "metadata": {
        "id": "tdtWfpUGgC4E"
      },
      "source": [
        "# Modeling"
      ]
    },
    {
      "cell_type": "code",
      "execution_count": 6,
      "metadata": {
        "id": "qfYErd5YuEjg",
        "colab": {
          "base_uri": "https://localhost:8080/"
        },
        "outputId": "7835deba-520a-42c0-8d80-adc5ae05aa9e"
      },
      "outputs": [
        {
          "output_type": "stream",
          "name": "stdout",
          "text": [
            "Model: \"generator\"\n",
            "_________________________________________________________________\n",
            " Layer (type)                Output Shape              Param #   \n",
            "=================================================================\n",
            " dense (Dense)               (None, 1600)              161600    \n",
            "                                                                 \n",
            " reshape (Reshape)           (None, 4, 4, 100)         0         \n",
            "                                                                 \n",
            " conv2d_transpose (Conv2DTra  (None, 8, 8, 512)        819712    \n",
            " nspose)                                                         \n",
            "                                                                 \n",
            " batch_normalization (BatchN  (None, 8, 8, 512)        2048      \n",
            " ormalization)                                                   \n",
            "                                                                 \n",
            " leaky_re_lu (LeakyReLU)     (None, 8, 8, 512)         0         \n",
            "                                                                 \n",
            " conv2d_transpose_1 (Conv2DT  (None, 16, 16, 256)      2097408   \n",
            " ranspose)                                                       \n",
            "                                                                 \n",
            " batch_normalization_1 (Batc  (None, 16, 16, 256)      1024      \n",
            " hNormalization)                                                 \n",
            "                                                                 \n",
            " leaky_re_lu_1 (LeakyReLU)   (None, 16, 16, 256)       0         \n",
            "                                                                 \n",
            " conv2d_transpose_2 (Conv2DT  (None, 32, 32, 128)      524416    \n",
            " ranspose)                                                       \n",
            "                                                                 \n",
            " batch_normalization_2 (Batc  (None, 32, 32, 128)      512       \n",
            " hNormalization)                                                 \n",
            "                                                                 \n",
            " leaky_re_lu_2 (LeakyReLU)   (None, 32, 32, 128)       0         \n",
            "                                                                 \n",
            " conv2d_transpose_3 (Conv2DT  (None, 64, 64, 3)        6147      \n",
            " ranspose)                                                       \n",
            "                                                                 \n",
            "=================================================================\n",
            "Total params: 3,612,867\n",
            "Trainable params: 3,611,075\n",
            "Non-trainable params: 1,792\n",
            "_________________________________________________________________\n"
          ]
        }
      ],
      "source": [
        "generator = tf.keras.Sequential([\n",
        "    Input(shape=(LATENT_DIM,)),\n",
        "    Dense(4 * 4 * LATENT_DIM),\n",
        "    Reshape((4, 4, LATENT_DIM)),\n",
        "\n",
        "    Conv2DTranspose(512, kernel_size=4, strides=2, padding=\"same\"),\n",
        "    BatchNormalization(),\n",
        "    LeakyReLU(0.2),\n",
        "\n",
        "    Conv2DTranspose(256, kernel_size=4, strides=2, padding=\"same\"),\n",
        "    BatchNormalization(),\n",
        "    LeakyReLU(0.2),\n",
        "\n",
        "    Conv2DTranspose(128, kernel_size=4, strides=2, padding=\"same\"),\n",
        "    BatchNormalization(),\n",
        "    LeakyReLU(0.2),\n",
        "\n",
        "    Conv2DTranspose(3, kernel_size=4, strides=2, activation=tf.keras.activations.tanh, padding=\"same\"),\n",
        "], name=\"generator\")\n",
        "\n",
        "generator.summary()"
      ]
    },
    {
      "cell_type": "code",
      "execution_count": 7,
      "metadata": {
        "id": "QxJiYAOquEon",
        "colab": {
          "base_uri": "https://localhost:8080/"
        },
        "outputId": "48fe5db4-2e78-4dad-d319-0fc07ba45a34"
      },
      "outputs": [
        {
          "output_type": "stream",
          "name": "stdout",
          "text": [
            "Model: \"discriminator\"\n",
            "_________________________________________________________________\n",
            " Layer (type)                Output Shape              Param #   \n",
            "=================================================================\n",
            " conv2d (Conv2D)             (None, 32, 32, 64)        3136      \n",
            "                                                                 \n",
            " leaky_re_lu_3 (LeakyReLU)   (None, 32, 32, 64)        0         \n",
            "                                                                 \n",
            " conv2d_1 (Conv2D)           (None, 16, 16, 128)       131200    \n",
            "                                                                 \n",
            " batch_normalization_3 (Batc  (None, 16, 16, 128)      512       \n",
            " hNormalization)                                                 \n",
            "                                                                 \n",
            " leaky_re_lu_4 (LeakyReLU)   (None, 16, 16, 128)       0         \n",
            "                                                                 \n",
            " conv2d_2 (Conv2D)           (None, 8, 8, 256)         524544    \n",
            "                                                                 \n",
            " batch_normalization_4 (Batc  (None, 8, 8, 256)        1024      \n",
            " hNormalization)                                                 \n",
            "                                                                 \n",
            " leaky_re_lu_5 (LeakyReLU)   (None, 8, 8, 256)         0         \n",
            "                                                                 \n",
            " conv2d_3 (Conv2D)           (None, 4, 4, 1)           4097      \n",
            "                                                                 \n",
            " flatten (Flatten)           (None, 16)                0         \n",
            "                                                                 \n",
            " dense_1 (Dense)             (None, 1)                 17        \n",
            "                                                                 \n",
            "=================================================================\n",
            "Total params: 664,530\n",
            "Trainable params: 663,762\n",
            "Non-trainable params: 768\n",
            "_________________________________________________________________\n"
          ]
        }
      ],
      "source": [
        "discriminator = tf.keras.Sequential([\n",
        "    Input(shape=(IM_SHAPE[0], IM_SHAPE[1], 3)),\n",
        "\n",
        "    Conv2D(64, kernel_size=4, strides=2, padding=\"same\"),\n",
        "    LeakyReLU(0.2),\n",
        "\n",
        "    Conv2D(128, kernel_size=4, strides=2, padding=\"same\"),\n",
        "    BatchNormalization(),\n",
        "    LeakyReLU(0.2),\n",
        "    \n",
        "    Conv2D(256, kernel_size=4, strides=2, padding=\"same\"),\n",
        "    BatchNormalization(),\n",
        "    LeakyReLU(0.2),\n",
        "\n",
        "    Conv2D(1, kernel_size=4, strides=2, padding=\"same\"),\n",
        "\n",
        "    Flatten(),\n",
        "    Dense(1, activation=\"sigmoid\")\n",
        "], name=\"discriminator\")\n",
        "\n",
        "discriminator.summary()"
      ]
    },
    {
      "cell_type": "code",
      "execution_count": 8,
      "metadata": {
        "id": "lcPT8TgBuErO"
      },
      "outputs": [],
      "source": [
        "class ShowImage(tf.keras.callbacks.Callback):\n",
        "    def __init__(self, latent_dim=100):\n",
        "        self.latent_dim = latent_dim\n",
        "\n",
        "\n",
        "    def on_epoch_end(self, epoch, logs=None):\n",
        "        n = 6\n",
        "        k = 0\n",
        "        out=self.model.generator(tf.random.normal(shape=(36, self.latent_dim)))\n",
        "        plt.figure(figsize=(16, 16))\n",
        "        for i in range(n):\n",
        "            for j in range(n):\n",
        "                ax=plt.subplot(n, n, k + 1)\n",
        "                plt.imshow((out[k] + 1) / 2,)\n",
        "                plt.axis(\"off\")\n",
        "                k += 1\n",
        "        plt.savefig(\"generated/gen_images_epoch_{}.png\".format(epoch + 1))\n",
        "\n",
        "\n",
        "class GAN(tf.keras.Model):\n",
        "    def __init__(self, discriminator, generator):\n",
        "        super(GAN, self).__init__()\n",
        "        self.discriminator = discriminator\n",
        "        self.generator = generator\n",
        "\n",
        "\n",
        "    def compile(self, d_optimizer, g_optimizer, loss_fn):\n",
        "        super(GAN, self).compile()\n",
        "        self.d_optimizer = d_optimizer\n",
        "        self.g_optimizer = g_optimizer\n",
        "        self.loss_fn = loss_fn\n",
        "        self.d_loss_metric = tf.keras.metrics.Mean(name=\"d_loss\")\n",
        "        self.g_loss_metric = tf.keras.metrics.Mean(name=\"g_loss\")\n",
        "\n",
        "\n",
        "    @property\n",
        "    def metrics(self):\n",
        "        return [self.d_loss_metric, self.g_loss_metric]\n",
        "\n",
        "\n",
        "    def train_step(self, real_images):\n",
        "        batch_size = tf.shape(real_images)[0]\n",
        "\n",
        "        ### Discriminator ###\n",
        "        random_noise = tf.random.normal(shape=(batch_size, LATENT_DIM))\n",
        "        fake_images = self.generator(random_noise)\n",
        "        # Use soft/noisy labels according to https://github.com/soumith/ganhacks\n",
        "        real_labels = (\n",
        "            tf.ones((batch_size, 1))\n",
        "            + 0.25 * tf.random.uniform((batch_size, 1), minval=-1, maxval=1)\n",
        "        )\n",
        "        fake_labels = (\n",
        "            tf.zeros((batch_size, 1))\n",
        "            + 0.25 * tf.random.uniform((batch_size, 1),)\n",
        "        )\n",
        "        with tf.GradientTape() as recorder:\n",
        "            real_predictions = self.discriminator(real_images)\n",
        "            d_loss_real = self.loss_fn(real_labels, real_predictions)\n",
        "            fake_predictions = self.discriminator(fake_images)\n",
        "            d_loss_fake = self.loss_fn(fake_labels, fake_predictions)\n",
        "            d_loss = d_loss_real + d_loss_fake\n",
        "        partial_derivatives = recorder.gradient(d_loss, self.discriminator.trainable_weights)\n",
        "        self.d_optimizer.apply_gradients(\n",
        "            zip(partial_derivatives, self.discriminator.trainable_weights)\n",
        "        )\n",
        "\n",
        "        ### Generator ###\n",
        "        random_noise = tf.random.normal(shape=(batch_size, LATENT_DIM))\n",
        "        flipped_fake_labels = tf.ones((batch_size, 1))\n",
        "        with tf.GradientTape() as recorder:\n",
        "            fake_predictions = self.discriminator(self.generator(random_noise))\n",
        "            g_loss = self.loss_fn(flipped_fake_labels, fake_predictions)\n",
        "        partial_derivatives = recorder.gradient(g_loss, self.generator.trainable_weights)\n",
        "        self.g_optimizer.apply_gradients(\n",
        "            zip(partial_derivatives, self.generator.trainable_weights)\n",
        "        )\n",
        "\n",
        "        self.d_loss_metric.update_state(d_loss)\n",
        "        self.g_loss_metric.update_state(g_loss)\n",
        "        \n",
        "        return {\n",
        "            \"d_loss\":self.d_loss_metric.result(),\n",
        "            \"g_loss\":self.g_loss_metric.result()\n",
        "        }"
      ]
    },
    {
      "cell_type": "code",
      "execution_count": null,
      "metadata": {
        "id": "hFfDNRj8uEwi",
        "colab": {
          "base_uri": "https://localhost:8080/"
        },
        "outputId": "90e5378d-78f3-41aa-d224-61da733f656d"
      },
      "outputs": [
        {
          "output_type": "stream",
          "name": "stdout",
          "text": [
            "Epoch 1/50\n",
            "      6/Unknown - 24s 166ms/step - d_loss: 1.1675 - g_loss: 0.6651"
          ]
        },
        {
          "output_type": "stream",
          "name": "stderr",
          "text": [
            "WARNING:tensorflow:Callback method `on_train_batch_end` is slow compared to the batch time (batch time: 0.0541s vs `on_train_batch_end` time: 0.0912s). Check your callbacks.\n"
          ]
        },
        {
          "output_type": "stream",
          "name": "stdout",
          "text": [
            "1582/1582 [==============================] - 308s 180ms/step - d_loss: 1.1575 - g_loss: 0.9613\n",
            "Epoch 2/50\n",
            "1582/1582 [==============================] - 288s 182ms/step - d_loss: 1.1933 - g_loss: 0.8997\n",
            "Epoch 3/50\n",
            "1582/1582 [==============================] - 288s 182ms/step - d_loss: 1.2191 - g_loss: 0.8497\n",
            "Epoch 4/50\n",
            "1582/1582 [==============================] - 288s 181ms/step - d_loss: 1.2291 - g_loss: 0.8382\n",
            "Epoch 5/50\n",
            "1582/1582 [==============================] - 288s 182ms/step - d_loss: 1.2212 - g_loss: 0.8414\n",
            "Epoch 6/50\n",
            "1582/1582 [==============================] - 287s 181ms/step - d_loss: 1.2170 - g_loss: 0.8496\n",
            "Epoch 7/50\n",
            "1582/1582 [==============================] - 287s 181ms/step - d_loss: 1.2077 - g_loss: 0.8664\n",
            "Epoch 8/50\n",
            "1582/1582 [==============================] - 287s 181ms/step - d_loss: 1.1945 - g_loss: 0.8725\n",
            "Epoch 9/50\n",
            "1582/1582 [==============================] - 289s 182ms/step - d_loss: 1.1872 - g_loss: 0.8840\n",
            "Epoch 10/50\n",
            "1582/1582 [==============================] - 287s 181ms/step - d_loss: 1.1818 - g_loss: 0.8839\n",
            "Epoch 11/50\n",
            "1582/1582 [==============================] - 287s 181ms/step - d_loss: 1.1902 - g_loss: 0.8808\n",
            "Epoch 12/50\n",
            "1582/1582 [==============================] - 287s 181ms/step - d_loss: 1.1789 - g_loss: 0.8859\n",
            "Epoch 13/50\n",
            "1582/1582 [==============================] - 287s 181ms/step - d_loss: 1.1881 - g_loss: 0.8784\n",
            "Epoch 14/50\n",
            "1582/1582 [==============================] - 287s 181ms/step - d_loss: 1.1787 - g_loss: 0.8847\n",
            "Epoch 15/50\n",
            "1582/1582 [==============================] - 287s 181ms/step - d_loss: 1.1878 - g_loss: 0.8756\n",
            "Epoch 16/50\n",
            "1582/1582 [==============================] - 287s 181ms/step - d_loss: 1.1791 - g_loss: 0.8895\n",
            "Epoch 17/50\n",
            "1582/1582 [==============================] - 289s 182ms/step - d_loss: 1.1704 - g_loss: 0.8816\n",
            "Epoch 18/50\n",
            "1582/1582 [==============================] - 287s 181ms/step - d_loss: 1.1775 - g_loss: 0.8841\n",
            "Epoch 19/50\n",
            "1582/1582 [==============================] - 287s 181ms/step - d_loss: 1.1774 - g_loss: 0.8831\n",
            "Epoch 20/50\n",
            "1582/1582 [==============================] - 287s 181ms/step - d_loss: 1.1561 - g_loss: 0.9044\n",
            "Epoch 21/50\n",
            "1582/1582 [==============================] - ETA: 0s - d_loss: 1.1573 - g_loss: 0.9058"
          ]
        },
        {
          "output_type": "stream",
          "name": "stderr",
          "text": [
            "<ipython-input-8-74d561bbfbbd>:10: RuntimeWarning: More than 20 figures have been opened. Figures created through the pyplot interface (`matplotlib.pyplot.figure`) are retained until explicitly closed and may consume too much memory. (To control this warning, see the rcParam `figure.max_open_warning`). Consider using `matplotlib.pyplot.close()`.\n",
            "  plt.figure(figsize=(16, 16))\n"
          ]
        },
        {
          "output_type": "stream",
          "name": "stdout",
          "text": [
            "\b\b\b\b\b\b\b\b\b\b\b\b\b\b\b\b\b\b\b\b\b\b\b\b\b\b\b\b\b\b\b\b\b\b\b\b\b\b\b\b\b\b\b\b\b\b\b\b\b\b\b\b\b\b\b\b\b\b\b\b\b\b\b\b\b\b\b\b\b\b\b\b\b\b\b\b\b\b\b\b\b\b\b\b\b\b\r1582/1582 [==============================] - 287s 181ms/step - d_loss: 1.1573 - g_loss: 0.9058\n",
            "Epoch 22/50\n",
            "1582/1582 [==============================] - 287s 181ms/step - d_loss: 1.1540 - g_loss: 0.9098\n",
            "Epoch 23/50\n",
            "1582/1582 [==============================] - 287s 181ms/step - d_loss: 1.1562 - g_loss: 0.9107\n",
            "Epoch 24/50\n",
            "1582/1582 [==============================] - 287s 181ms/step - d_loss: 1.1559 - g_loss: 0.9151\n",
            "Epoch 25/50\n",
            "1582/1582 [==============================] - 286s 180ms/step - d_loss: 1.1390 - g_loss: 0.9265\n",
            "Epoch 26/50\n",
            "1582/1582 [==============================] - 286s 180ms/step - d_loss: 1.1513 - g_loss: 0.9238\n",
            "Epoch 27/50\n",
            "1582/1582 [==============================] - 286s 181ms/step - d_loss: 1.1346 - g_loss: 0.9328\n",
            "Epoch 28/50\n",
            "1582/1582 [==============================] - 286s 181ms/step - d_loss: 1.1312 - g_loss: 0.9409\n",
            "Epoch 29/50\n",
            "1582/1582 [==============================] - 288s 182ms/step - d_loss: 1.1226 - g_loss: 0.9488\n",
            "Epoch 30/50\n",
            "1582/1582 [==============================] - 288s 182ms/step - d_loss: 1.1173 - g_loss: 0.9608\n",
            "Epoch 31/50\n",
            "1582/1582 [==============================] - 287s 181ms/step - d_loss: 1.1169 - g_loss: 0.9611\n",
            "Epoch 32/50\n",
            "1582/1582 [==============================] - 287s 181ms/step - d_loss: 1.1127 - g_loss: 0.9682\n",
            "Epoch 33/50\n",
            "1582/1582 [==============================] - 287s 181ms/step - d_loss: 1.1076 - g_loss: 0.9755\n",
            "Epoch 34/50\n",
            "1582/1582 [==============================] - 287s 181ms/step - d_loss: 1.0937 - g_loss: 0.9879\n",
            "Epoch 35/50\n",
            "1582/1582 [==============================] - 287s 181ms/step - d_loss: 1.0907 - g_loss: 0.9991\n",
            "Epoch 36/50\n",
            "1582/1582 [==============================] - 287s 181ms/step - d_loss: 1.0884 - g_loss: 1.0007\n",
            "Epoch 37/50\n",
            "1582/1582 [==============================] - 288s 181ms/step - d_loss: 1.0869 - g_loss: 1.0069\n",
            "Epoch 38/50\n",
            "1582/1582 [==============================] - 289s 182ms/step - d_loss: 1.0797 - g_loss: 1.0230\n",
            "Epoch 39/50\n",
            "1582/1582 [==============================] - 288s 181ms/step - d_loss: 1.0731 - g_loss: 1.0260\n",
            "Epoch 40/50\n",
            "1582/1582 [==============================] - 286s 181ms/step - d_loss: 1.0694 - g_loss: 1.0365\n",
            "Epoch 41/50\n",
            "1582/1582 [==============================] - 287s 181ms/step - d_loss: 1.0435 - g_loss: 1.0639\n",
            "Epoch 42/50\n",
            "1582/1582 [==============================] - 287s 181ms/step - d_loss: 1.0510 - g_loss: 1.0751\n",
            "Epoch 43/50\n",
            "1582/1582 [==============================] - 287s 181ms/step - d_loss: 1.0348 - g_loss: 1.0959\n",
            "Epoch 44/50\n",
            "1582/1582 [==============================] - 287s 181ms/step - d_loss: 1.0281 - g_loss: 1.1143\n",
            "Epoch 45/50\n",
            "1582/1582 [==============================] - 286s 181ms/step - d_loss: 1.0264 - g_loss: 1.1184\n",
            "Epoch 46/50\n",
            "1582/1582 [==============================] - 287s 181ms/step - d_loss: 1.0172 - g_loss: 1.1391\n",
            "Epoch 47/50\n",
            "1582/1582 [==============================] - 287s 181ms/step - d_loss: 1.0304 - g_loss: 1.1386\n",
            "Epoch 48/50\n",
            "1582/1582 [==============================] - 288s 182ms/step - d_loss: 0.9962 - g_loss: 1.1549\n",
            "Epoch 49/50\n",
            "1582/1582 [==============================] - 288s 182ms/step - d_loss: 1.0106 - g_loss: 1.1575\n",
            "Epoch 50/50\n",
            "1582/1582 [==============================] - 289s 182ms/step - d_loss: 0.9945 - g_loss: 1.1766\n"
          ]
        }
      ],
      "source": [
        "gan = GAN(discriminator, generator)\n",
        "gan.compile(\n",
        "    d_optimizer=tf.keras.optimizers.Adam(learning_rate=LEARNING_RATE, beta_1=0.5),\n",
        "    g_optimizer=tf.keras.optimizers.Adam(learning_rate=LEARNING_RATE, beta_1=0.5),\n",
        "    loss_fn=tf.keras.losses.BinaryCrossentropy(),\n",
        ")\n",
        "\n",
        "!mkdir generated\n",
        "\n",
        "history = gan.fit(train_dataset, epochs=EPOCHS, callbacks=[ShowImage(LATENT_DIM)])"
      ]
    },
    {
      "cell_type": "code",
      "source": [
        "plt.plot(history.history[\"d_loss\"])\n",
        "plt.plot(history.history[\"g_loss\"])\n",
        "plt.title(\"GAN Loss\")\n",
        "plt.ylabel(\"Loss\")\n",
        "plt.xlabel(\"epoch\")\n",
        "plt.legend([\"d_loss\", \"g_loss\"], loc=\"upper left\")\n",
        "plt.show()"
      ],
      "metadata": {
        "id": "yFFWVn_51th7"
      },
      "execution_count": null,
      "outputs": []
    }
  ],
  "metadata": {
    "accelerator": "GPU",
    "colab": {
      "provenance": [],
      "include_colab_link": true
    },
    "gpuClass": "standard",
    "kernelspec": {
      "display_name": "Python 3",
      "name": "python3"
    },
    "language_info": {
      "name": "python"
    }
  },
  "nbformat": 4,
  "nbformat_minor": 0
}